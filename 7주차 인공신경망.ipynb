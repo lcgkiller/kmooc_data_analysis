{
 "cells": [
  {
   "cell_type": "code",
   "execution_count": 9,
   "metadata": {
    "collapsed": true
   },
   "outputs": [],
   "source": [
    "from sklearn.datasets import load_iris\n",
    "iris = load_iris()"
   ]
  },
  {
   "cell_type": "code",
   "execution_count": 3,
   "metadata": {},
   "outputs": [
    {
     "data": {
      "text/plain": [
       "dict_keys(['data', 'target', 'target_names', 'DESCR', 'feature_names'])"
      ]
     },
     "execution_count": 3,
     "metadata": {},
     "output_type": "execute_result"
    }
   ],
   "source": [
    "# iris에 있는 속성(keys())\n",
    "    # data, target, target_names, DESCR, feature_names\n",
    "iris.keys()"
   ]
  },
  {
   "cell_type": "code",
   "execution_count": 12,
   "metadata": {},
   "outputs": [
    {
     "data": {
      "text/plain": [
       "['sepal length (cm)',\n",
       " 'sepal width (cm)',\n",
       " 'petal length (cm)',\n",
       " 'petal width (cm)']"
      ]
     },
     "execution_count": 12,
     "metadata": {},
     "output_type": "execute_result"
    }
   ],
   "source": [
    "iris.feature_names"
   ]
  },
  {
   "cell_type": "code",
   "execution_count": 14,
   "metadata": {},
   "outputs": [
    {
     "data": {
      "text/plain": [
       "array(['setosa', 'versicolor', 'virginica'],\n",
       "      dtype='<U10')"
      ]
     },
     "execution_count": 14,
     "metadata": {},
     "output_type": "execute_result"
    }
   ],
   "source": [
    "iris.target_names"
   ]
  },
  {
   "cell_type": "code",
   "execution_count": 11,
   "metadata": {},
   "outputs": [
    {
     "data": {
      "text/plain": [
       "(150, 4)"
      ]
     },
     "execution_count": 11,
     "metadata": {},
     "output_type": "execute_result"
    }
   ],
   "source": [
    "# iris 데이터 개수 (150개 * 4column)\n",
    "iris['data'].shape"
   ]
  },
  {
   "cell_type": "code",
   "execution_count": 15,
   "metadata": {},
   "outputs": [
    {
     "data": {
      "text/plain": [
       "array([0, 0, 0, 0, 0, 0, 0, 0, 0, 0, 0, 0, 0, 0, 0, 0, 0, 0, 0, 0, 0, 0, 0,\n",
       "       0, 0, 0, 0, 0, 0, 0, 0, 0, 0, 0, 0, 0, 0, 0, 0, 0, 0, 0, 0, 0, 0, 0,\n",
       "       0, 0, 0, 0, 1, 1, 1, 1, 1, 1, 1, 1, 1, 1, 1, 1, 1, 1, 1, 1, 1, 1, 1,\n",
       "       1, 1, 1, 1, 1, 1, 1, 1, 1, 1, 1, 1, 1, 1, 1, 1, 1, 1, 1, 1, 1, 1, 1,\n",
       "       1, 1, 1, 1, 1, 1, 1, 1, 2, 2, 2, 2, 2, 2, 2, 2, 2, 2, 2, 2, 2, 2, 2,\n",
       "       2, 2, 2, 2, 2, 2, 2, 2, 2, 2, 2, 2, 2, 2, 2, 2, 2, 2, 2, 2, 2, 2, 2,\n",
       "       2, 2, 2, 2, 2, 2, 2, 2, 2, 2, 2, 2])"
      ]
     },
     "execution_count": 15,
     "metadata": {},
     "output_type": "execute_result"
    }
   ],
   "source": [
    "# 총 150개 (0 : 50개, 1 : 50개, 2 : 50개)\n",
    "    # 0 ~ 49 : seotasa\n",
    "    # 50~99 : versicolor\n",
    "    # 100~149 : virginica\n",
    "iris['target']"
   ]
  },
  {
   "cell_type": "code",
   "execution_count": null,
   "metadata": {
    "collapsed": true
   },
   "outputs": [],
   "source": [
    "X = iris['data'] # 4 column * 150개 data\n",
    "y = iris['target'] # target의 이름은 small y라는 것에 주의"
   ]
  },
  {
   "cell_type": "code",
   "execution_count": 19,
   "metadata": {},
   "outputs": [],
   "source": [
    "from sklearn.model_selection import train_test_split\n",
    "    # Split arrays or matrices into random train and test subsets\n",
    "    # 비율을 정하지 않으면 테스트 : 훈련 데이터의 비율은 1:3정도로 배분\n",
    "X_train, X_test, y_train, y_test = train_test_split(X, y) # (훈련용 데이터(75%), 테스트용 데이터(25%), 훈련용 target(75%), 테스트용 target(25%))"
   ]
  },
  {
   "cell_type": "code",
   "execution_count": 55,
   "metadata": {
    "collapsed": true
   },
   "outputs": [],
   "source": [
    "# StandardScaler : 데이터 정제 기법중, 정규화를 시키는 함수\n",
    "# 데이터의 범위를 평균 0, 표준편차 1의 범위로 바꿔주는 함수\n",
    "from sklearn.preprocessing import StandardScaler\n",
    "scaler = StandardScaler()"
   ]
  },
  {
   "cell_type": "code",
   "execution_count": 56,
   "metadata": {},
   "outputs": [
    {
     "data": {
      "text/plain": [
       "StandardScaler(copy=True, with_mean=True, with_std=True)"
      ]
     },
     "execution_count": 56,
     "metadata": {},
     "output_type": "execute_result"
    }
   ],
   "source": [
    "# StandardScaler를 담은 변수에 X_train 데이터와 평균과 표준편차를 구함\n",
    "    # 위에서 본 데이터의 평균과 표준편차를 구할 수 있음.\n",
    "scaler.fit(X_train)"
   ]
  },
  {
   "cell_type": "code",
   "execution_count": 57,
   "metadata": {},
   "outputs": [],
   "source": [
    "# X_train과 X_test 데이터를 StandardScaler를 이용해 정규화\n",
    "X_train = scaler.transform(X_train)\n",
    "X_test = scaler.transform(X_test)\n"
   ]
  },
  {
   "cell_type": "markdown",
   "metadata": {},
   "source": [
    "# 다층인공신경망 분류 알고리즘"
   ]
  },
  {
   "cell_type": "code",
   "execution_count": 58,
   "metadata": {
    "collapsed": true
   },
   "outputs": [],
   "source": [
    "from sklearn.neural_network import MLPClassifier\n",
    "\n",
    "# 히든레이어 노드를 10개씩 3계층으로 구성\n",
    "mlp = MLPClassifier(hidden_layer_sizes=(10, 10, 10))"
   ]
  },
  {
   "cell_type": "code",
   "execution_count": 59,
   "metadata": {},
   "outputs": [
    {
     "name": "stderr",
     "output_type": "stream",
     "text": [
      "/home/chulgyoo/.pyenv/versions/3.6.1/envs/kmooc/lib/python3.6/site-packages/sklearn/neural_network/multilayer_perceptron.py:564: ConvergenceWarning: Stochastic Optimizer: Maximum iterations (200) reached and the optimization hasn't converged yet.\n",
      "  % self.max_iter, ConvergenceWarning)\n"
     ]
    },
    {
     "data": {
      "text/plain": [
       "MLPClassifier(activation='relu', alpha=0.0001, batch_size='auto', beta_1=0.9,\n",
       "       beta_2=0.999, early_stopping=False, epsilon=1e-08,\n",
       "       hidden_layer_sizes=(10, 10, 10), learning_rate='constant',\n",
       "       learning_rate_init=0.001, max_iter=200, momentum=0.9,\n",
       "       nesterovs_momentum=True, power_t=0.5, random_state=None,\n",
       "       shuffle=True, solver='adam', tol=0.0001, validation_fraction=0.1,\n",
       "       verbose=False, warm_start=False)"
      ]
     },
     "execution_count": 59,
     "metadata": {},
     "output_type": "execute_result"
    }
   ],
   "source": [
    "# 위에서 분류한 X_train과 y_train을  MLP를 이용해 학습\n",
    "mlp.fit(X_train, y_train)"
   ]
  },
  {
   "cell_type": "markdown",
   "metadata": {},
   "source": [
    "다층신경망은 기본적인 활성함수로 `relu`라는 함수를 사용한다. \n",
    "             (아까는 시그모이드 함수를 사용한다고 했으나, 요즘에는 제프리 힌톤이라고 하는 사람에 의해 활용된다.)\n",
    "음수일 경우에는 0, 양수일 경우에는 선형적으로 데이터가 증가한다.\n",
    "\n",
    "Activation='relu' 활성화함수가 relu임 <br>\n",
    "alpha : 신경망 내의 정규화를 어떻게 할 것인가<br>\n",
    "batch_szie : 최적화하기 위한 학습 최소 크기<br>\n",
    "Epslion : 수치 안정하로르 우히나 오차값(편차 유닛)<br>\n",
    "learning_rate : 학습률의 형태(기본값은 constant, 가끔은 iteration이 반복되는 상황에 따라 다르게 주는 경우도 있음)<br>\n",
    "learning_rate_init : 학습률. 기본값은 0.001<br>\n",
    "Max_iter : 최대 반복 횟수(여기서는 200번)<br>\n",
    "momentum : gradient descent update를 위한 모멘텀. 기본값은 0.9(이정도만 있구나 하는 정도로)<br>\n",
    "hidden_laer_sizes : 은닉층 별 노드수(우리는 10, 10, 10) 즉, 은닉층이 3개에 각각 10개씩의 노드가 존재한다는 의미<br>\n",
    "nesterovs momentum : 사용할지 말지<br>\n",
    "solver : sgd 및 momentum이 0보다 큰 경우에만 사용<br>\n",
    "power_t : 기본 값은 0.5, 역 스케일링 학습률의 지수. learning_rate가 'invascaling'으로 설정된 경우 효과적인 학습 속도를 업데이트하는 데 사용<br>\n",
    "random_state : int 또는 randomState, 기본값은 없음. 난수 생성기의 상태 또는 시드.<br>\n",
    "validation_fraction : 모델을 만들 때 내부적으로 검증하기 위해 사용하는 데이터의 비율<br>\n",
    "validation : 데이터를 학습할 때 데이터가 유의미한지를 검증<br>\n",
    "  "
   ]
  },
  {
   "cell_type": "code",
   "execution_count": 60,
   "metadata": {
    "collapsed": true
   },
   "outputs": [],
   "source": [
    "# mlp로 학습한 내용을 X_test에 대해 분류한 결과를 prediction 변수에 저장\n",
    "predictions = mlp.predict(X_test)"
   ]
  },
  {
   "cell_type": "code",
   "execution_count": 61,
   "metadata": {
    "scrolled": true
   },
   "outputs": [
    {
     "name": "stdout",
     "output_type": "stream",
     "text": [
      "[[10  1  0]\n",
      " [ 0 15  2]\n",
      " [ 0  1  9]]\n"
     ]
    }
   ],
   "source": [
    "# confusion_matrix는 데이터가 맞는지의 유무를 판단\n",
    "# classification_report는 precision 과 recall 그리고 f1_score들을 계산해 정확률에 대해 계산\n",
    "from sklearn.metrics import classification_report, confusion_matrix\n",
    "\n",
    "print(confusion_matrix(y_test, predictions))\n",
    "    # 0번은 0번으로 제대로 분류된 것이 10개, 0번이 1번으로 분류된 건 1개, 2번으로 분류된 건 0개ㅐ\n",
    "    # 1번이 0번으로 분류된 게 0개, 1번이 1번으로 분류된게 15번 ... "
   ]
  },
  {
   "cell_type": "code",
   "execution_count": 62,
   "metadata": {},
   "outputs": [
    {
     "name": "stdout",
     "output_type": "stream",
     "text": [
      "             precision    recall  f1-score   support\n",
      "\n",
      "          0       1.00      0.91      0.95        11\n",
      "          1       0.88      0.88      0.88        17\n",
      "          2       0.82      0.90      0.86        10\n",
      "\n",
      "avg / total       0.90      0.89      0.90        38\n",
      "\n"
     ]
    }
   ],
   "source": [
    "print(classification_report(y_test, predictions))\n",
    "    # 비율로 나오게 됨. \n",
    "    # avg를 가지고 인공신경망의 성능이 이정도 된다고 알 수 있음. 이것은 다른 기계학습모델과 성능을 비교할 때 사용할 수 있다."
   ]
  }
 ],
 "metadata": {
  "kernelspec": {
   "display_name": "Python 3",
   "language": "python",
   "name": "python3"
  },
  "language_info": {
   "codemirror_mode": {
    "name": "ipython",
    "version": 3
   },
   "file_extension": ".py",
   "mimetype": "text/x-python",
   "name": "python",
   "nbconvert_exporter": "python",
   "pygments_lexer": "ipython3",
   "version": "3.6.1"
  }
 },
 "nbformat": 4,
 "nbformat_minor": 2
}
