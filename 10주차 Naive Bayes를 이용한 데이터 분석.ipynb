{
 "cells": [
  {
   "cell_type": "markdown",
   "metadata": {},
   "source": [
    "# 나이브 베이즈 알고리즘\n",
    "기계학습분야에서 지도학습(supervised learning) 알고리즘.\n",
    "분류(Classification)의 목적으로 사용하고, 속성들 사이의 독립을 가정하는 베이즈 정리(Bayes theorem)를 적용한 확률적 분류기법이다.\n",
    "\n",
    "## 베이즈 정리\n",
    "두 확률 변수의 **사전확률**과 **사후확률** 사이의 관계를 설명하는 수학적 정리\n",
    " - 사전확률 : 어떤 사건에 대해 원인과 결과가 있다고 가정했을 때, 원인이 있을 때 결과가 발생할 확률\n",
    " - 사후확률 : 결과가 발생했다는 가정(=조건)에서, 어떤 원인이 발생했을 확률\n",
    " - 우도(likelihood) : 원인이 발생했다는 조건에서 결과가 발생했을 확률\n",
    "\n",
    "## 베이즈 공식\n",
    "![스크린샷, 2017-11-14 00-31-40](https://i.imgur.com/NjO4rJx.png)\n",
    "P(A|B) : 사건 B가 일어난 상태에서 사건 A가 일어날 확률\n",
    "\n",
    "![스크린샷, 2017-11-14 00-56-53](https://i.imgur.com/CSTrjiO.png)\n",
    "그림과 같이 주사위 2개를 던졌을 때 두 주사위의 차이가 2일 확률이 아니라 주사위를 2개 던졌는데 그중 6이 없는 상태에서 두 주사위의 차이가 2가 될 확률을 구하는 것이다. 따라서 표본공간이 주사위 2개를 던졌을 때 나올 수 있는 모든 결과의 집합에서 주사위 2개를 던졌는데 그중 6이 없는 모든 결과의 집합으로 줄어들었을 때 두 주사위의 차이가 2일 확률을 구하는 것이다.\n",
    "\n",
    "#### 각 사건의 확률값 보정\n",
    "![스크린샷, 2017-11-14 00-59-27](https://i.imgur.com/vJXxfXu.png)\n",
    "줄어든 표본공간의 전체 확률값은 `1`이다. 1이 되어야 하니까 각 값을 `보정`해야 함. 원래 표본공간은 3개이고, 6의 값을 인정하지 않는 조건에 해당하는 집합의 원소가 25개다.\n",
    "\n",
    "![스크린샷, 2017-11-14 01-00-43](https://i.imgur.com/oi9Mm4t.png)\n",
    "\n",
    "\n"
   ]
  },
  {
   "cell_type": "markdown",
   "metadata": {},
   "source": [
    "## 사후 확률 계산 시 발생하는 문제 해결 기법  \n",
    "\n",
    "**라플라스 스무딩** : 베이즈 정리에 의한 조건부 확률을 계산할 때 학습에 제시되지 않은 요소가 입력에 존재를 하는 경우를 방지하기 위해 확률 값을 보정하는 기법\n",
    "\n",
    "**Log 변환** : 항상 1보다 작은 값을 갖는 확률의 특성상 입력 벡터를 구성하는 요소가 많아질수록 입력벡터에 대한 각각의 조건부 확률이 너무 작아져서 비교가 불가능한 underflow현상이 발생할 수 있다. 이러한 문제를 해결하기 위해 조건부 확률 계산식에 **로그**를 적용한다."
   ]
  },
  {
   "cell_type": "markdown",
   "metadata": {},
   "source": [
    "# 실습\n",
    "\n",
    "[진행과정]\n",
    "1. 예제 데이터를 이용하여 빈도/우도 테이블 생성\n",
    "2. 나이브 베이즈 방정식을 사용하여 각 클래스의 사전확률 계산\n",
    "3. 입력 벡터에 대한 사후 확률 계산\n",
    " \n",
    "계산되어 나온 사후 확률 중 가장 높은 사후확률을 갖는 클래스\n",
    " \n",
    "학습 벡터 : outlook, temperature, humidity(조건, 특징 벡터를 이루는 구성 요소, 학습벡터, 특징값)\n",
    "클래스 : playTennis(분류하고자 하는 타깃값, 테니스를 칠 수 있을지 없을지 예측)\n",
    "\n",
    "## 1. 사후 확률 구하기 \n",
    "![스크린샷, 2017-11-14 01-12-26](https://i.imgur.com/wUHX6NX.png)\n",
    "outlook 벡터를 이용해 빈도 테이블을 만든다.\n",
    "\n",
    "## 2. 사전 확률 구하기\n",
    "![스크린샷, 2017-11-14 01-13-36](https://i.imgur.com/pIyHTHJ.png)\n",
    "\n",
    "[클래스 YES에 대한 사전확률] 9/14=0.64\n",
    "[클래스 NO에 대한 사전확률] 5/14=0.36\n",
    "\n",
    "## 3. 우도 구하기\n",
    "결과가 발생한 조건에서 원인이 발생하는 확률(우도) 구하기\n",
    "[결과값이 Yes일 때, Overcast가 발생할 확률] 4/9=0.44\n",
    "[결과값이 No일 때, Overcast가 발생할 확률] 발생하지 않음.\n",
    "[결과값이 No일 때, Outlook벡터의 Rain일 확률] 2/5=0.4\n",
    "[결과값이 Yes일 때, Outlook벡터의 Rain일 확률] 3/9=0.33\n",
    "[결과값이 No일 때, Outlook벡터의 Sunny일 확률] 3/5=0.6\n",
    "[결과값이 Yes일 때, Outlook벡터의 Sunny일 확률] 2/9=0.22\n"
   ]
  },
  {
   "cell_type": "markdown",
   "metadata": {
    "collapsed": true
   },
   "source": [
    "# 파이썬 실습\n",
    "\n",
    "![스크린샷, 2017-11-15 02-19-29](https://i.imgur.com/JDZzbCj.png)\n",
    "Outlook 벡터 중에서 Sunny가 발생했을 때, No가 얼마나 발생하는지에 대한 확률\n",
    "즉, No가 발생할 사전확률과 No가 발생했을 때 Sunny가 발생했을 확률인 우도를 곱한 값을 **Sunny**가 발생할 사전확률로 나눈다.\n",
    "\n",
    "No가 발생활 사전확률 P(No) = 0.36\n",
    "\n",
    "### 사후확률\n",
    "![스크린샷, 2017-11-15 02-21-47](https://i.imgur.com/2YyHwZA.png)\n",
    "Rain이 발생했을 때, No가 발생할 확률.\n",
    "\n",
    "**나머지 사후확률값 구해보기!!**\n",
    "\n",
    "\n",
    "![스크린샷, 2017-11-15 02-23-36](https://i.imgur.com/i1DeaMK.png)\n",
    "Outlook 벡터와 클래스에 대한 사전확률 및 사후확률과 우도를 구한 과정을 Temperature 벡터와 Humidity 벡터에 각각 적용을 하면\n",
    "Temperature 벡터와 Humidity 벡터, 클래스에 대한 사전확률, 사후 확률, 우도 등도 함께 마저 구할 수 있게 된다.\n"
   ]
  },
  {
   "cell_type": "markdown",
   "metadata": {},
   "source": [
    "## Temperature 데이터 이용\n",
    "1. 사후확률 구하기\n",
    " - Temperature에는 Hot, Mild, Cold이 있고 PlayTennis의 범주는 Yes, NO로 나뉜다.\n",
    " - 빈도 테이블을 만들기\n",
    " - 우도 테이블 만들기\n",
    "\n",
    "2. 사전 확률 구하기(Cool)\n",
    " - Cool의 사전확률 = Cool의 수 / Temperature 벡터 전체 요소 수(4/14)\n",
    " - Hot의 사전확률 = Hot의 수 / Temperature 벡터 전체 요소 수(4/14)\n",
    " - Mild이 사전확률 = Mild의 수 / Temperature 벡터 전체 요소 수(2/14)\n",
    " - 클래스 No의 사전확률 = 5/14\n",
    " - 클래스 Yes의 사전확률 = 9/14\n",
    " \n",
    "3. 우도 구하기\n",
    " - 결과가 발생할 조건에서 원인이 발생하는 확률\n",
    " - 클래스가 Yes일 때 Tempearture 벡터가 Cool일 확률 = 3/9\n",
    " - 클래스가 No일 때 Temperature 벡터가 Cool일 확률 = 1/5\n",
    " - 클래스가 Yes일 때 Temperature 벡터가 Hot일 확률 = 2/9\n",
    " - 클래스가 No일 때, Temperature 벡터가 Hot일 확률 = 2/5\n",
    " - 클래스가 Yes일 때 Temperature 벡터가 Mild일 확률 = 4/9\n",
    " - 클래스가 No일 때 Temperature 벡터가 Mild일 확률 = 2/\n",
    " \n",
    "4. Temperature 벡터가 발생했을 때, 클래스가 발생할 사후확률\n",
    "    ![스크린샷, 2017-11-15 02-33-16](https://i.imgur.com/VrODkfN.png)\n",
    " - 즉, No가 발생할 사전 확률가 No가 발생했을 떄 Cool이 발생할 확률인 우도를 곱한 값을 Cool이 발생할 사전확률로 나누어주면 된다.\n",
    " - 0.25 = Cool이 발생했을 때, No가 발생할 사후확률값\n",
    " \n",
    "\n",
    "## Humidity 데이터 이용\n",
    "\n",
    "1. 사후확률 구하기\n",
    " - 빈도 테이블 생성 및 우도테이블 생성\n",
    " \n",
    "2. 사전확률 구하기(NO)\n",
    "     ![스크린샷, 2017-11-15 02-38-21](https://i.imgur.com/odmywRH.png)\n",
    "\n",
    "3. 우도 구하기\n",
    "    ![스크린샷, 2017-11-15 02-39-37](https://i.imgur.com/H5yakGW.png)\n",
    "    \n",
    "4. Hmidity 벡터가 발생했을 때, 클래스가 발생할 사후 확률\n",
    "    ![스크린샷, 2017-11-15 02-40-56](https://i.imgur.com/mInoWBr.png)\n",
    "\n",
    "5. Normal 이라는 벡터가 발생했을 때, No가 발생할 사후 확률\n",
    "    ![스크린샷, 2017-11-15 02-41-55](https://i.imgur.com/LZLhwqO.png)\n",
    "    \n",
    "    \n",
    "![스크린샷, 2017-11-15 02-44-02](https://i.imgur.com/tKBt4sk.png)\n"
   ]
  },
  {
   "cell_type": "code",
   "execution_count": null,
   "metadata": {
    "collapsed": true
   },
   "outputs": [],
   "source": []
  },
  {
   "cell_type": "code",
   "execution_count": 25,
   "metadata": {},
   "outputs": [
    {
     "data": {
      "text/html": [
       "<div>\n",
       "<style>\n",
       "    .dataframe thead tr:only-child th {\n",
       "        text-align: right;\n",
       "    }\n",
       "\n",
       "    .dataframe thead th {\n",
       "        text-align: left;\n",
       "    }\n",
       "\n",
       "    .dataframe tbody tr th {\n",
       "        vertical-align: top;\n",
       "    }\n",
       "</style>\n",
       "<table border=\"1\" class=\"dataframe\">\n",
       "  <thead>\n",
       "    <tr style=\"text-align: right;\">\n",
       "      <th></th>\n",
       "      <th>Outlook</th>\n",
       "      <th>Temperature</th>\n",
       "      <th>Humidity</th>\n",
       "      <th>Wind</th>\n",
       "      <th>PlayTennis</th>\n",
       "    </tr>\n",
       "  </thead>\n",
       "  <tbody>\n",
       "    <tr>\n",
       "      <th>0</th>\n",
       "      <td>Sunny</td>\n",
       "      <td>Hot</td>\n",
       "      <td>High</td>\n",
       "      <td>Weak</td>\n",
       "      <td>No</td>\n",
       "    </tr>\n",
       "    <tr>\n",
       "      <th>1</th>\n",
       "      <td>Sunny</td>\n",
       "      <td>Hot</td>\n",
       "      <td>High</td>\n",
       "      <td>Strong</td>\n",
       "      <td>No</td>\n",
       "    </tr>\n",
       "    <tr>\n",
       "      <th>2</th>\n",
       "      <td>Overcast</td>\n",
       "      <td>Hot</td>\n",
       "      <td>High</td>\n",
       "      <td>Weak</td>\n",
       "      <td>Yes</td>\n",
       "    </tr>\n",
       "    <tr>\n",
       "      <th>3</th>\n",
       "      <td>Rain</td>\n",
       "      <td>Mild</td>\n",
       "      <td>High</td>\n",
       "      <td>Weak</td>\n",
       "      <td>Yes</td>\n",
       "    </tr>\n",
       "    <tr>\n",
       "      <th>4</th>\n",
       "      <td>Rain</td>\n",
       "      <td>Cool</td>\n",
       "      <td>Normal</td>\n",
       "      <td>Weak</td>\n",
       "      <td>Yes</td>\n",
       "    </tr>\n",
       "    <tr>\n",
       "      <th>5</th>\n",
       "      <td>Rain</td>\n",
       "      <td>Cool</td>\n",
       "      <td>Normal</td>\n",
       "      <td>Strong</td>\n",
       "      <td>No</td>\n",
       "    </tr>\n",
       "    <tr>\n",
       "      <th>6</th>\n",
       "      <td>Overcast</td>\n",
       "      <td>Cool</td>\n",
       "      <td>Normal</td>\n",
       "      <td>Strong</td>\n",
       "      <td>Yes</td>\n",
       "    </tr>\n",
       "    <tr>\n",
       "      <th>7</th>\n",
       "      <td>Sunny</td>\n",
       "      <td>Mild</td>\n",
       "      <td>High</td>\n",
       "      <td>Weak</td>\n",
       "      <td>No</td>\n",
       "    </tr>\n",
       "    <tr>\n",
       "      <th>8</th>\n",
       "      <td>Sunny</td>\n",
       "      <td>Cool</td>\n",
       "      <td>Normal</td>\n",
       "      <td>Weak</td>\n",
       "      <td>Yes</td>\n",
       "    </tr>\n",
       "    <tr>\n",
       "      <th>9</th>\n",
       "      <td>Rain</td>\n",
       "      <td>Mild</td>\n",
       "      <td>Normal</td>\n",
       "      <td>Weak</td>\n",
       "      <td>Yes</td>\n",
       "    </tr>\n",
       "    <tr>\n",
       "      <th>10</th>\n",
       "      <td>Sunny</td>\n",
       "      <td>Mild</td>\n",
       "      <td>Normal</td>\n",
       "      <td>Strong</td>\n",
       "      <td>Yes</td>\n",
       "    </tr>\n",
       "    <tr>\n",
       "      <th>11</th>\n",
       "      <td>Overcast</td>\n",
       "      <td>Mild</td>\n",
       "      <td>High</td>\n",
       "      <td>Strong</td>\n",
       "      <td>Yes</td>\n",
       "    </tr>\n",
       "    <tr>\n",
       "      <th>12</th>\n",
       "      <td>Overcast</td>\n",
       "      <td>Hot</td>\n",
       "      <td>Normal</td>\n",
       "      <td>Weak</td>\n",
       "      <td>Yes</td>\n",
       "    </tr>\n",
       "    <tr>\n",
       "      <th>13</th>\n",
       "      <td>Rain</td>\n",
       "      <td>Mild</td>\n",
       "      <td>High</td>\n",
       "      <td>Strong</td>\n",
       "      <td>No</td>\n",
       "    </tr>\n",
       "  </tbody>\n",
       "</table>\n",
       "</div>"
      ],
      "text/plain": [
       "     Outlook Temperature Humidity    Wind PlayTennis\n",
       "0      Sunny         Hot     High    Weak         No\n",
       "1      Sunny         Hot     High  Strong         No\n",
       "2   Overcast         Hot     High    Weak        Yes\n",
       "3       Rain        Mild     High    Weak        Yes\n",
       "4       Rain        Cool   Normal    Weak        Yes\n",
       "5       Rain        Cool   Normal  Strong         No\n",
       "6   Overcast        Cool   Normal  Strong        Yes\n",
       "7      Sunny        Mild     High    Weak         No\n",
       "8      Sunny        Cool   Normal    Weak        Yes\n",
       "9       Rain        Mild   Normal    Weak        Yes\n",
       "10     Sunny        Mild   Normal  Strong        Yes\n",
       "11  Overcast        Mild     High  Strong        Yes\n",
       "12  Overcast         Hot   Normal    Weak        Yes\n",
       "13      Rain        Mild     High  Strong         No"
      ]
     },
     "execution_count": 25,
     "metadata": {},
     "output_type": "execute_result"
    }
   ],
   "source": [
    "from sklearn.model_selection import train_test_split\n",
    "    # sklearn.model_selection : scikit-learn 패키지 중 클래스를 나누거나 함수를 통해 train/test를 나눌 때, 모델 검증에 사용되는 서브 패키지\n",
    "    # train_test_split : 배열 또는 행렬을 임의의 훈련(train) 및 테스트(test) 하위 집합으로 분할하는 모듈\n",
    "from sklearn.naive_bayes import GaussianNB\n",
    "    # sklearn.navie_bayes : scikit-learn 패키지 중 나이브 베이즈 기반 모델이 있는 서브 패키지\n",
    "    # Gaussian : 연속적인 값을 지닌 데이터 처리시, 각 클래스의 연속적인 값들이 가우스 분포(정규분포)를 따른다고 가정하는 나이브 베이즈 모듈중 하나\n",
    "\n",
    "import pandas as pd # 데이터를 구조화된 형식으로 가공 및 분석할 수 있또록 하는 자료구조를 제공하는 패키지\n",
    "import numpy as np # Numerical Python의 줄임말로, 고성능 계산, 데이터 분석에 관련된 패키지\n",
    "\n",
    "tennis_data = pd.read_csv('play_tennis.csv')\n",
    "tennis_data"
   ]
  },
  {
   "cell_type": "markdown",
   "metadata": {},
   "source": [
    "## 문자열 타입에서 숫자 타입으로 변환을 하는 전처리 과정"
   ]
  },
  {
   "cell_type": "code",
   "execution_count": 26,
   "metadata": {},
   "outputs": [
    {
     "data": {
      "text/html": [
       "<div>\n",
       "<style>\n",
       "    .dataframe thead tr:only-child th {\n",
       "        text-align: right;\n",
       "    }\n",
       "\n",
       "    .dataframe thead th {\n",
       "        text-align: left;\n",
       "    }\n",
       "\n",
       "    .dataframe tbody tr th {\n",
       "        vertical-align: top;\n",
       "    }\n",
       "</style>\n",
       "<table border=\"1\" class=\"dataframe\">\n",
       "  <thead>\n",
       "    <tr style=\"text-align: right;\">\n",
       "      <th></th>\n",
       "      <th>Outlook</th>\n",
       "      <th>Temperature</th>\n",
       "      <th>Humidity</th>\n",
       "      <th>Wind</th>\n",
       "      <th>PlayTennis</th>\n",
       "    </tr>\n",
       "  </thead>\n",
       "  <tbody>\n",
       "    <tr>\n",
       "      <th>0</th>\n",
       "      <td>0</td>\n",
       "      <td>3</td>\n",
       "      <td>6</td>\n",
       "      <td>8</td>\n",
       "      <td>10</td>\n",
       "    </tr>\n",
       "    <tr>\n",
       "      <th>1</th>\n",
       "      <td>0</td>\n",
       "      <td>3</td>\n",
       "      <td>6</td>\n",
       "      <td>9</td>\n",
       "      <td>10</td>\n",
       "    </tr>\n",
       "    <tr>\n",
       "      <th>2</th>\n",
       "      <td>1</td>\n",
       "      <td>3</td>\n",
       "      <td>6</td>\n",
       "      <td>8</td>\n",
       "      <td>11</td>\n",
       "    </tr>\n",
       "    <tr>\n",
       "      <th>3</th>\n",
       "      <td>2</td>\n",
       "      <td>4</td>\n",
       "      <td>6</td>\n",
       "      <td>8</td>\n",
       "      <td>11</td>\n",
       "    </tr>\n",
       "    <tr>\n",
       "      <th>4</th>\n",
       "      <td>2</td>\n",
       "      <td>5</td>\n",
       "      <td>7</td>\n",
       "      <td>8</td>\n",
       "      <td>11</td>\n",
       "    </tr>\n",
       "    <tr>\n",
       "      <th>5</th>\n",
       "      <td>2</td>\n",
       "      <td>5</td>\n",
       "      <td>7</td>\n",
       "      <td>9</td>\n",
       "      <td>10</td>\n",
       "    </tr>\n",
       "    <tr>\n",
       "      <th>6</th>\n",
       "      <td>1</td>\n",
       "      <td>5</td>\n",
       "      <td>7</td>\n",
       "      <td>9</td>\n",
       "      <td>11</td>\n",
       "    </tr>\n",
       "    <tr>\n",
       "      <th>7</th>\n",
       "      <td>0</td>\n",
       "      <td>4</td>\n",
       "      <td>6</td>\n",
       "      <td>8</td>\n",
       "      <td>10</td>\n",
       "    </tr>\n",
       "    <tr>\n",
       "      <th>8</th>\n",
       "      <td>0</td>\n",
       "      <td>5</td>\n",
       "      <td>7</td>\n",
       "      <td>8</td>\n",
       "      <td>11</td>\n",
       "    </tr>\n",
       "    <tr>\n",
       "      <th>9</th>\n",
       "      <td>2</td>\n",
       "      <td>4</td>\n",
       "      <td>7</td>\n",
       "      <td>8</td>\n",
       "      <td>11</td>\n",
       "    </tr>\n",
       "    <tr>\n",
       "      <th>10</th>\n",
       "      <td>0</td>\n",
       "      <td>4</td>\n",
       "      <td>7</td>\n",
       "      <td>9</td>\n",
       "      <td>11</td>\n",
       "    </tr>\n",
       "    <tr>\n",
       "      <th>11</th>\n",
       "      <td>1</td>\n",
       "      <td>4</td>\n",
       "      <td>6</td>\n",
       "      <td>9</td>\n",
       "      <td>11</td>\n",
       "    </tr>\n",
       "    <tr>\n",
       "      <th>12</th>\n",
       "      <td>1</td>\n",
       "      <td>3</td>\n",
       "      <td>7</td>\n",
       "      <td>8</td>\n",
       "      <td>11</td>\n",
       "    </tr>\n",
       "    <tr>\n",
       "      <th>13</th>\n",
       "      <td>2</td>\n",
       "      <td>4</td>\n",
       "      <td>6</td>\n",
       "      <td>9</td>\n",
       "      <td>10</td>\n",
       "    </tr>\n",
       "  </tbody>\n",
       "</table>\n",
       "</div>"
      ],
      "text/plain": [
       "    Outlook  Temperature  Humidity  Wind  PlayTennis\n",
       "0         0            3         6     8          10\n",
       "1         0            3         6     9          10\n",
       "2         1            3         6     8          11\n",
       "3         2            4         6     8          11\n",
       "4         2            5         7     8          11\n",
       "5         2            5         7     9          10\n",
       "6         1            5         7     9          11\n",
       "7         0            4         6     8          10\n",
       "8         0            5         7     8          11\n",
       "9         2            4         7     8          11\n",
       "10        0            4         7     9          11\n",
       "11        1            4         6     9          11\n",
       "12        1            3         7     8          11\n",
       "13        2            4         6     9          10"
      ]
     },
     "execution_count": 26,
     "metadata": {},
     "output_type": "execute_result"
    }
   ],
   "source": [
    "tennis_data.Outlook = tennis_data.Outlook.replace('Sunny', 0)\n",
    "tennis_data.Outlook = tennis_data.Outlook.replace('Overcast', 1)\n",
    "tennis_data.Outlook = tennis_data.Outlook.replace('Rain', 2)\n",
    "\n",
    "tennis_data.Temperature = tennis_data.Temperature.replace('Hot', 3)\n",
    "tennis_data.Temperature = tennis_data.Temperature.replace('Mild', 4)\n",
    "tennis_data.Temperature = tennis_data.Temperature.replace('Cool', 5)\n",
    "\n",
    "tennis_data.Humidity = tennis_data.Humidity.replace('High', 6)\n",
    "tennis_data.Humidity = tennis_data.Humidity.replace('Normal', 7)\n",
    "\n",
    "tennis_data.Wind = tennis_data.Wind.replace('Weak', 8)\n",
    "tennis_data.Wind = tennis_data.Wind.replace('Strong', 9)\n",
    "\n",
    "tennis_data.PlayTennis = tennis_data.PlayTennis.replace('No', 10)\n",
    "tennis_data.PlayTennis = tennis_data.PlayTennis.replace('Yes', 11)\n",
    "\n",
    "tennis_data\n"
   ]
  },
  {
   "cell_type": "code",
   "execution_count": null,
   "metadata": {
    "collapsed": true
   },
   "outputs": [],
   "source": []
  },
  {
   "cell_type": "code",
   "execution_count": null,
   "metadata": {
    "collapsed": true
   },
   "outputs": [],
   "source": []
  },
  {
   "cell_type": "code",
   "execution_count": null,
   "metadata": {
    "collapsed": true
   },
   "outputs": [],
   "source": []
  },
  {
   "cell_type": "code",
   "execution_count": null,
   "metadata": {
    "collapsed": true
   },
   "outputs": [],
   "source": []
  },
  {
   "cell_type": "code",
   "execution_count": null,
   "metadata": {
    "collapsed": true
   },
   "outputs": [],
   "source": []
  },
  {
   "cell_type": "code",
   "execution_count": 27,
   "metadata": {},
   "outputs": [
    {
     "name": "stdout",
     "output_type": "stream",
     "text": [
      "[[0 3 6 8]\n",
      " [0 3 6 9]\n",
      " [1 3 6 8]\n",
      " [2 4 6 8]\n",
      " [2 5 7 8]\n",
      " [2 5 7 9]\n",
      " [1 5 7 9]\n",
      " [0 4 6 8]\n",
      " [0 5 7 8]\n",
      " [2 4 7 8]\n",
      " [0 4 7 9]\n",
      " [1 4 6 9]\n",
      " [1 3 7 8]\n",
      " [2 4 6 9]]\n",
      "[[10]\n",
      " [10]\n",
      " [11]\n",
      " [11]\n",
      " [11]\n",
      " [10]\n",
      " [11]\n",
      " [10]\n",
      " [11]\n",
      " [11]\n",
      " [11]\n",
      " [11]\n",
      " [11]\n",
      " [10]]\n"
     ]
    }
   ],
   "source": [
    "# 1. 변수 tennis_data의 칼럼의 값들을 데이터프레임 형태로 추출하고\n",
    "# np.array를 이용해 추출한 데이터를 배열 형태로 변환한 후 변수 X에 저장\n",
    "\n",
    "# 2. 변수 tennis_data의 컬럼(PlayTennis)의 값을 데이터프레임 형태로 추출하고\n",
    "# np.array를 이용해 추출한 데이터를 배열 형태로 변환한 후 변수 y에 저장\n",
    "\n",
    "X = np.array(pd.DataFrame(tennis_data, columns = ['Outlook', 'Temperature', 'Humidity', 'Wind'])) # 독립변수\n",
    "y = np.array(pd.DataFrame(tennis_data, columns = ['PlayTennis'])) # target 값 (종속변수)\n",
    "print(X)\n",
    "print(y)"
   ]
  },
  {
   "cell_type": "code",
   "execution_count": 28,
   "metadata": {},
   "outputs": [
    {
     "name": "stdout",
     "output_type": "stream",
     "text": [
      "10\n",
      "4\n",
      "10\n",
      "4\n",
      "0.2857142857142857\n"
     ]
    }
   ],
   "source": [
    "# 14개의 데이터(0~13) 일부를 train 데이터로, 일부를 test 데이터로 한다.\n",
    "# 일반적으로 train을 7.5, test를 2.5로 둔다.\n",
    "X_train, X_test, y_train, y_test = train_test_split(X, y)\n",
    "    # 변수 X : 4개 컬럼에 대한 데이터\n",
    "    # 변수 y : Playtennis 컬럼의 데이터\n",
    "    # X_train과 y_train에 75%a\n",
    "    # X_test과 y_test에 25%가 할당됨\n",
    "\n",
    "print(len(X_train))\n",
    "print(len(X_test))\n",
    "print(len(y_train))\n",
    "print(len(y_test))\n",
    "print(len(X_test)/(len(X_train)+len(X_test)))"
   ]
  },
  {
   "cell_type": "code",
   "execution_count": 30,
   "metadata": {},
   "outputs": [
    {
     "name": "stdout",
     "output_type": "stream",
     "text": [
      "[10 11 11 10]\n"
     ]
    },
    {
     "name": "stderr",
     "output_type": "stream",
     "text": [
      "/home/chulgyoo/.pyenv/versions/3.6.1/envs/kmooc/lib/python3.6/site-packages/sklearn/utils/validation.py:547: DataConversionWarning: A column-vector y was passed when a 1d array was expected. Please change the shape of y to (n_samples, ), for example using ravel().\n",
      "  y = column_or_1d(y, warn=True)\n"
     ]
    }
   ],
   "source": [
    "gnb_clf = GaussianNB()\n",
    "gnb_clf = gnb_clf.fit(X_train, y_train) # gnb_clf의 함수 fit()에 변수 X_train, y_train을 입력해 가우시안(Gaussian) 나이브 베이즈 모델 생성\n",
    "gnb_prediction = gnb_clf.predict(X_test) # 입력한 변수 X_test에 대한 클래스 예측 값을 저장\n",
    "print(gnb_prediction) ## 11: YES, 10 : NO"
   ]
  },
  {
   "cell_type": "code",
   "execution_count": null,
   "metadata": {
    "collapsed": true
   },
   "outputs": [],
   "source": []
  },
  {
   "cell_type": "code",
   "execution_count": null,
   "metadata": {
    "collapsed": true
   },
   "outputs": [],
   "source": []
  },
  {
   "cell_type": "code",
   "execution_count": null,
   "metadata": {
    "collapsed": true
   },
   "outputs": [],
   "source": []
  },
  {
   "cell_type": "code",
   "execution_count": null,
   "metadata": {
    "collapsed": true
   },
   "outputs": [],
   "source": []
  },
  {
   "cell_type": "code",
   "execution_count": null,
   "metadata": {
    "collapsed": true
   },
   "outputs": [],
   "source": []
  },
  {
   "cell_type": "code",
   "execution_count": null,
   "metadata": {
    "collapsed": true
   },
   "outputs": [],
   "source": []
  },
  {
   "cell_type": "code",
   "execution_count": null,
   "metadata": {
    "collapsed": true
   },
   "outputs": [],
   "source": []
  },
  {
   "cell_type": "code",
   "execution_count": null,
   "metadata": {
    "collapsed": true
   },
   "outputs": [],
   "source": []
  },
  {
   "cell_type": "code",
   "execution_count": null,
   "metadata": {
    "collapsed": true
   },
   "outputs": [],
   "source": []
  },
  {
   "cell_type": "code",
   "execution_count": null,
   "metadata": {
    "collapsed": true
   },
   "outputs": [],
   "source": []
  },
  {
   "cell_type": "code",
   "execution_count": null,
   "metadata": {
    "collapsed": true
   },
   "outputs": [],
   "source": []
  },
  {
   "cell_type": "code",
   "execution_count": null,
   "metadata": {
    "collapsed": true
   },
   "outputs": [],
   "source": []
  },
  {
   "cell_type": "code",
   "execution_count": null,
   "metadata": {
    "collapsed": true
   },
   "outputs": [],
   "source": []
  },
  {
   "cell_type": "code",
   "execution_count": null,
   "metadata": {
    "collapsed": true
   },
   "outputs": [],
   "source": []
  },
  {
   "cell_type": "code",
   "execution_count": null,
   "metadata": {
    "collapsed": true
   },
   "outputs": [],
   "source": []
  },
  {
   "cell_type": "code",
   "execution_count": null,
   "metadata": {
    "collapsed": true
   },
   "outputs": [],
   "source": []
  },
  {
   "cell_type": "code",
   "execution_count": null,
   "metadata": {
    "collapsed": true
   },
   "outputs": [],
   "source": []
  },
  {
   "cell_type": "code",
   "execution_count": null,
   "metadata": {
    "collapsed": true
   },
   "outputs": [],
   "source": []
  },
  {
   "cell_type": "code",
   "execution_count": null,
   "metadata": {
    "collapsed": true
   },
   "outputs": [],
   "source": []
  },
  {
   "cell_type": "code",
   "execution_count": null,
   "metadata": {
    "collapsed": true
   },
   "outputs": [],
   "source": []
  },
  {
   "cell_type": "code",
   "execution_count": null,
   "metadata": {
    "collapsed": true
   },
   "outputs": [],
   "source": []
  },
  {
   "cell_type": "code",
   "execution_count": null,
   "metadata": {
    "collapsed": true
   },
   "outputs": [],
   "source": []
  },
  {
   "cell_type": "code",
   "execution_count": null,
   "metadata": {
    "collapsed": true
   },
   "outputs": [],
   "source": []
  },
  {
   "cell_type": "code",
   "execution_count": null,
   "metadata": {
    "collapsed": true
   },
   "outputs": [],
   "source": []
  },
  {
   "cell_type": "code",
   "execution_count": null,
   "metadata": {
    "collapsed": true
   },
   "outputs": [],
   "source": []
  },
  {
   "cell_type": "code",
   "execution_count": null,
   "metadata": {
    "collapsed": true
   },
   "outputs": [],
   "source": []
  },
  {
   "cell_type": "code",
   "execution_count": null,
   "metadata": {
    "collapsed": true
   },
   "outputs": [],
   "source": []
  },
  {
   "cell_type": "code",
   "execution_count": null,
   "metadata": {
    "collapsed": true
   },
   "outputs": [],
   "source": []
  },
  {
   "cell_type": "code",
   "execution_count": null,
   "metadata": {
    "collapsed": true
   },
   "outputs": [],
   "source": []
  },
  {
   "cell_type": "code",
   "execution_count": null,
   "metadata": {
    "collapsed": true
   },
   "outputs": [],
   "source": []
  },
  {
   "cell_type": "code",
   "execution_count": null,
   "metadata": {
    "collapsed": true
   },
   "outputs": [],
   "source": []
  }
 ],
 "metadata": {
  "kernelspec": {
   "display_name": "Python 3",
   "language": "python",
   "name": "python3"
  },
  "language_info": {
   "codemirror_mode": {
    "name": "ipython",
    "version": 3
   },
   "file_extension": ".py",
   "mimetype": "text/x-python",
   "name": "python",
   "nbconvert_exporter": "python",
   "pygments_lexer": "ipython3",
   "version": "3.6.1"
  }
 },
 "nbformat": 4,
 "nbformat_minor": 2
}
