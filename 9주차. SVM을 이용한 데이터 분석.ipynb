{
 "cells": [
  {
   "cell_type": "markdown",
   "metadata": {},
   "source": [
    "# 9주차 Support Vector Machine\n",
    "\n",
    "지지벡터 기계라고 번역을 하기도 한다. \n",
    "\n",
    "대부분 분류 문제에 사용하고, 회귀문제로 가게 되면 SVR(support Vector Regression)이라는 방법을 사용하기도 한다.\n",
    "SVM 알고리즘의 핵심은 n차원 공간에 있는 데이터들을 가장 잘 구분하는 `경계선` 또는 `경계면(초평면)`을 찾는 것이다."
   ]
  },
  {
   "cell_type": "markdown",
   "metadata": {},
   "source": [
    "## 파이썬 Sklearn SVM Parameter\n",
    "\n",
    "1. Kernel\n",
    " - rbf(radial basis function), linear, poly(polynomial)\n",
    " - 기본 값으로 rbf를 설정 (값은 특정 중심에서 거리에 의존하는 함수 값)\n",
    " \n",
    "2. C\n",
    " - 얼마만큼의 여유를 가지고 오류를 인정할 건지에 대한 값\n",
    " - 기본값으로 1.0 설정\n",
    " - 값을 낮출 경우 초평면이 매끄러워짐\n",
    " - 값을 높일 경우 서포트 벡터들을 다 잘 분류함\n",
    " \n",
    "3. Gamma\n",
    " - 기본값으로 auto 설정\n",
    " - 값을 낮출 경우 초평면에서 멀리 떨어진 서포트 벡터들의 영향이 낮음\n",
    " - 값을 높일 경우 멀리 떨어진 요소들의 값이 영향이 큼\n",
    " - 값을 높일 경우 초평면에 인접한 서포트 벡터들의 영향(weight)이 커지기 때문에 초평변이 울퉁불퉁(uneven)하게 됨\n",
    " \n",
    "### SVM Overfitting\n",
    "과최적화 : 훈련 데이터에 대해서 모델이 최적화된 경우를 의미. 학습 데이터의 패턴을 벗어나는 새로운 데이터에 대해선 분류를 제대로 못하는 경우가 발생한다. Machine Learning에서는 과최적화된 경우를 피해야 한다."
   ]
  },
  {
   "cell_type": "code",
   "execution_count": null,
   "metadata": {
    "collapsed": true
   },
   "outputs": [],
   "source": []
  },
  {
   "cell_type": "code",
   "execution_count": null,
   "metadata": {
    "collapsed": true
   },
   "outputs": [],
   "source": []
  },
  {
   "cell_type": "code",
   "execution_count": null,
   "metadata": {
    "collapsed": true
   },
   "outputs": [],
   "source": []
  },
  {
   "cell_type": "code",
   "execution_count": null,
   "metadata": {
    "collapsed": true
   },
   "outputs": [],
   "source": []
  },
  {
   "cell_type": "code",
   "execution_count": null,
   "metadata": {
    "collapsed": true
   },
   "outputs": [],
   "source": []
  },
  {
   "cell_type": "code",
   "execution_count": null,
   "metadata": {
    "collapsed": true
   },
   "outputs": [],
   "source": []
  }
 ],
 "metadata": {
  "kernelspec": {
   "display_name": "Python 3",
   "language": "python",
   "name": "python3"
  },
  "language_info": {
   "codemirror_mode": {
    "name": "ipython",
    "version": 3
   },
   "file_extension": ".py",
   "mimetype": "text/x-python",
   "name": "python",
   "nbconvert_exporter": "python",
   "pygments_lexer": "ipython3",
   "version": "3.6.1"
  }
 },
 "nbformat": 4,
 "nbformat_minor": 2
}
